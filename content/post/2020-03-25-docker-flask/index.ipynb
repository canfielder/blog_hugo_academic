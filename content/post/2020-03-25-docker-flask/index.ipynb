{
  "nbformat": 4,
  "nbformat_minor": 0,
  "metadata": {
    "colab": {
      "name": "Blog Post - Dockerized Container - Code Snippets.ipynb",
      "provenance": [],
      "collapsed_sections": [],
      "authorship_tag": "ABX9TyOZbENAB0arvknHbKyZWGhM",
      "include_colab_link": true
    },
    "kernelspec": {
      "name": "python3",
      "display_name": "Python 3"
    }
  },
  "cells": [
    {
      "cell_type": "markdown",
      "metadata": {
        "id": "view-in-github",
        "colab_type": "text"
      },
      "source": [
        "<a href=\"https://colab.research.google.com/github/canfielder/blog_hugo_academic/blob/master/content/post/2020-03-25-docker-flask/index.ipynb\" target=\"_parent\"><img src=\"https://colab.research.google.com/assets/colab-badge.svg\" alt=\"Open In Colab\"/></a>"
      ]
    },
    {
      "cell_type": "markdown",
      "metadata": {
        "id": "NiIWjYYyJJ-G",
        "colab_type": "text"
      },
      "source": [
        "For Project 2 in my **Intro to Cloud Computing** course, the goal was to create a customized Docker container which runs a simple python script. For this post I am going to run through my process.\n",
        "\n",
        "The associated GitHub repo for this project can be found here: [https://github.com/canfielder/DSBA-6190_Proj2](https://github.com/canfielder/DSBA-6190_Proj2)\n",
        "\n",
        "The associated DockerHub repo can be found here: [https://hub.docker.com/repository/docker/canfielder/dsba-6190_proj2_docker](https://hub.docker.com/repository/docker/canfielder/dsba-6190_proj2_docker)\n",
        "\n",
        "I also want to give a huge thanks to my professor, Noah Gift, and his co-authors on the book [**Python for DevOps**](http://shop.oreilly.com/product/0636920274902.do) from O-Reilly. It provided a lot of the background on creating Docker Containers. \n",
        "\n",
        "# Project Outline\n",
        "The first deviation I made for this project was to expand on the simple python script which would be contained within the Docker container. Instead of a simple \"Hello World\" script, I decided to develop a simple Flask app which would employ a pickled scikit-learn model. This would give me the chance to work developing a model in a notebook and then exporting for use in another location. It might not surprise most of you that this process was pretty simple, but I had yet to try this, so it was good practice. \n",
        "\n",
        "So, with that deviation noted, the workflow for this project was as follows:\n",
        "\n",
        "1. Develop and pickle scikit-learn model.\n",
        "2. Create Flask app, using the pickled model.\n",
        "3. Containerize the Flask app in a Docker Container.\n",
        "4. Upload an image of the container to DockerHub.\n",
        "5. Dowload the image of the container in a new evironemnt and test\n",
        "\n",
        "## Working Enrionments\n",
        "\n",
        "For the work of developing a model in a notebook, I used Google Colab. For Flask app and docker container development I worked in the AWS Cloud9 space. Finally, to test that the docker image was successfully created and deployed to DockerHub, I deployed the docker image to new environment, in this case Google Cloud Platform. \n",
        "\n",
        "# Step 1 - Develop a Model\n",
        "Before I developed a model, I needed to identify a problem and an associated dataset. As this project was about created a Docker Container, and not data processing or model accuracy, I decided to pick a pretty simple, clean dataset. I went with the Wine Dataset from the UCI Machine Learning Repository. There's a good chance you've seen it before. It's not **Iris** popular, but it's popular. The dataset can be found here: [https://archive.ics.uci.edu/ml/datasets/wine](https://archive.ics.uci.edu/ml/datasets/wine).\n",
        "\n",
        "I focused only on the Red Wine part of the data. The data contained 12 variables, 11 features with one dependent variable. The dependednt variable was **wine quality** one a 1 - 10 scale. All variables were contiuous. \n",
        "\n",
        "In summary, I ran ran the data through four different regression models: linear regression, random forest regression, gradient boost regression, and support vector machines regression. The input data was also scalled with a Standard Scalar. \n",
        "\n",
        "The full analysis can be best seen in the notebook here: [https://github.com/canfielder/DSBA-6190_Proj2/blob/master/wine_predict/wine_quality_predict.ipynb](https://github.com/canfielder/DSBA-6190_Proj2/blob/master/wine_predict/wine_quality_predict.ipynb)\n",
        "\n",
        "While none of the models performed all that well, random forest regression performed the best. So I exported **BOTH** the random forest regression model JOBLIB file **AND** the standard scalar JOBLIB file. You need both files to correctly use the model on our test data. \n",
        "\n",
        "With the model created and exported, I was ready to create the Flask app.\n",
        "\n",
        "# Step 2 - Flask App\n",
        "As the class this project is for is a Cloud Computing class, most of the work I do is in cloud environments. This work is no different. So for this step I used Amazon Web Service's Cloud9 tool. For those who haven't used it, Cloud9 is a great environment for development, allowing easy access to the terminal and an IDE for visualizing your code. Plus, the default setting is for your instance to hibernate automatically after 30 minutes of no activity. No need to worry about accidentally leaving an instance running and unknowingly running up a bill.\n",
        "\n",
        "INSERT IMAGE\n",
        "\n",
        "So before I started developing the Flask app I needed to set up the working environment. This isn't actually specific to this project. Instead it's some baseline actions I try to take with every project.\n",
        "\n",
        "## Step 2a - Setup\n",
        "###  Create and Environemnt\n",
        "Since I'm working in AWS Cloud9, I need to create an environment.\n",
        "\n",
        "INSERT IMAGE\n",
        "\n",
        "Creating an Environment in Cloud9 essentially means generaing an instance. I need to pick that instances size. This project should require too much memory, but to play it safe I'm gonig to go with the **t3.small** instance type over the **nano**. I stay with the default settings for everything else.\n",
        "\n",
        "INSERT IMAGE\n",
        "\n",
        "### Connect to GitHub\n",
        "I need to clone a GitHub repo to this new environment. To make this easier, I'll generate a ssh keypair to connect the two. To do this, use the linux utiltity **ssh-keygen** in the Cloud9 terminal. The process looks like as follows. (I am generating an rsa type key)."
      ]
    },
    {
      "cell_type": "code",
      "metadata": {
        "id": "RNpvDpkZqrPy",
        "colab_type": "code",
        "colab": {}
      },
      "source": [
        "$ ssh-keygen -t rsa"
      ],
      "execution_count": 0,
      "outputs": []
    },
    {
      "cell_type": "markdown",
      "metadata": {
        "id": "5YaDZ4QYqqey",
        "colab_type": "text"
      },
      "source": [
        "\n",
        "Select enter several times unit you see the following on your screen.\n",
        "\n",
        "INSERT IMAGE\n",
        "\n",
        "**Note**: *You can enter a file location and password for your ssh key if you want, but for now I don't feel I need either.*\n",
        "\n",
        "Then, to access the key I just entered then perform the the following to access the generated key. Note the path that I am accessing is the path provided to me in the image above."
      ]
    },
    {
      "cell_type": "code",
      "metadata": {
        "id": "7e2t3zhOrYyB",
        "colab_type": "code",
        "colab": {}
      },
      "source": [
        "$ cat /home/ec2-user/.ssh/id_rsa.pub"
      ],
      "execution_count": 0,
      "outputs": []
    },
    {
      "cell_type": "markdown",
      "metadata": {
        "id": "jYwpD8JWrY9B",
        "colab_type": "text"
      },
      "source": [
        "\n",
        "INSERT IMAGE - Add circle around path\n",
        "\n",
        "The above command will then display the entire ssh key. I copy the entire key add it to my SSH keys in GitHub, under *Settings > SSH and GPG keys*. \n",
        "\n",
        "With the SSH keypair added to both the Cloud9 Instance and GitHub, I can easily clone the project repo to my evironment. This makes source control a lot easier.\n",
        "\n",
        "### Setup Python Essentials\n",
        "Since I am working with Python, I like to setup a couple different things, some a requirements, some are just nice-to-haves. The following sections go through some basics.\n",
        "\n",
        "#### Create and Activate Virtual Environment\n",
        "If I'm going to be installin packages, I need a virtual environment. I know my Cloud9 environment is using Python3 (3.6.10 to be exact), so I use the following command to create and then activate the virtual environment. The last argument in the code is what I am choosing to call my virtual environment folder. You can call it anything you want."
      ]
    },
    {
      "cell_type": "code",
      "metadata": {
        "id": "LfvhOYH1sKHi",
        "colab_type": "code",
        "colab": {}
      },
      "source": [
        "$ python3 -m venv .flask_app\n"
      ],
      "execution_count": 0,
      "outputs": []
    },
    {
      "cell_type": "markdown",
      "metadata": {
        "id": "kOWyNDjnsKRe",
        "colab_type": "text"
      },
      "source": [
        "#### Requirements and Makefile\n",
        "In order to install the needed python packages I create a *requirements.txt* file. This file lists all of the packages I plan to use for this Flask app.\n",
        "\n",
        "As a nice-to-have, I like to create a Makefile. The Makefile allows for simple commands to execute common and repeated actions, such as installs, testing, and running files. It will also become very usefule when I setup Continuous Integration with CircleCI (to come, later). \n",
        "\n",
        "To create a Makefile from the command line, enter the following command in the working directory of your project. Note, make sure it is **TAB SPACED**. If not the Makefile won't function correctly. \n",
        "\n",
        "As an exmple of a Makefile, here is what I have in mine. \n",
        "\n",
        "\n"
      ]
    },
    {
      "cell_type": "code",
      "metadata": {
        "id": "tRfNfjWCtHEA",
        "colab_type": "code",
        "colab": {}
      },
      "source": [
        "setup:\n",
        "\tpython3 -m venv ~/.flask_app\n",
        "\n",
        "install:\n",
        "\tpip install --upgrade pip &&\\\n",
        "\t\tpip install -r requirements.txt\n",
        "\n",
        "test:\n",
        "\t#python -m pytest -vv --cov=myrepolib tests/*.py\n",
        "\t#python -m pytest --nbval wine_predict/wine_quality_predict.ipynb\n",
        "\n",
        "lint:\n",
        "\thadolint Dockerfile \n",
        "\tpylint --disable=R,C,W1202 main.py\n",
        "\tpylint --disable=R,C locustfile.py\n",
        "\tpylint --disable=R,C python_scripts/**.py\n",
        "\tpylint --disable=R,C,W0104,E0602 wine_predict/**.ipynb\n",
        "\n",
        "run:\n",
        "\tpython3 main.py\n",
        "\t\n",
        "all: \n",
        "\tinstall lint test"
      ],
      "execution_count": 0,
      "outputs": []
    },
    {
      "cell_type": "markdown",
      "metadata": {
        "id": "_R9QDrEStHLu",
        "colab_type": "text"
      },
      "source": [
        "With this Makefile, for example, when I want to install the packages in  *requirements.txt* , now all I need to do is enter **make install** on the command line, and python with upgrade pip, if needed, and then install the indicated packages.\n",
        "\n",
        "### Continuous Integration\n",
        "I like to connect my GitHub Repo to CircleCI. CircleCI is a Continuous Integration and Development tool. Everytime a change is detected in the GitHub repo, CircleCI will automatically rebuild the repo and perform any tasks you tell it to, such as testing. This way you can quickly tell if a change you made to your project accidentally broke something, or if the code is behaving askew. For this project I'm only going to set up CircleCI to lint select python scripts, but I think it's a good habit to get into to set up Continuous Integration monitoring for any project I'm working. \n",
        "\n",
        "To get CircleCI to work, I need to add the file *config.yml* to a subfolder of my repo named *.circleci*. Default *config.yml* files are available at CircleCI, and are specific to each programming language. The screenshot below shows a custom section of my *config.yml*. This section tells CircleCI to lint select Python files. You may notice that I'm using the Makefile commands to execute this command.  \n",
        "\n",
        "INSERT IMAGE - CIRCLE CI YML\n",
        "\n",
        "##Step 2b - Create the Flask App\n",
        "The flask app is pretty straightforward. It employs some html coding, which is not my strong suit. The app takes the feature variables as inputs and generates a predicted wine quality score. The app uses the pickled random forest regression and standard scalar objects. \n",
        "\n",
        "See the main github repo for the complete code.\n",
        "\n",
        "# Step 3 - Put Flask App in Docker Container\n",
        "Finally, the whole point of this project. I will now put my Flask app into a Docker Container. \n",
        "\n",
        "Another bonus for Cloud9 is that it already has docker installed. No extra setup required, I can just go right into working with docker. \n",
        "\n",
        "## Dockerfile\n",
        "In order to create a docker container, I need to create a Dockerfile. A Dockerfile lists the instructions for how the docker container is going to be built. Below is a screenshot of the Dockerfile for this project.\n",
        "\n",
        "\n",
        "Insert Image - DockerFile\n",
        "\n",
        "Note that I am including in this Dockerfile a seperate Docker image, python 3.7.3-strech. This Docker image has all of the Python functions I need, like pip.\n",
        "\n",
        "Also, notice the command **EXPOSE 8080**. In this Dockerfile this doesn't actually do anything. But it does tell me, the user, that the open port in my Docker Container is port 8080. I definied this open port in the file **main.py**. But by putting this note in the Dockerfile, I , and whoever is next working on this project, doesn't have to dig for it.\n",
        "\n",
        "## Create Container\n",
        "Now that the Dockerfile has been created, and placed in the working directory of the project, I can create a Docker container. All I need to do is run **docker build** on the command line, and supply a name and version, followed by a perid. **Do Not Forget The Period!** It's very easy to overlook. I believe this is telling the **docker build** command the Dockerfile is in the working directory. If, for some reason, the container was in a sub-directory, instead of a period I would add a relative path to that sub-directory (I think)."
      ]
    },
    {
      "cell_type": "code",
      "metadata": {
        "id": "Uv7ienHrXJkh",
        "colab_type": "code",
        "colab": {}
      },
      "source": [
        "$ docker build flask_app:1.0 ."
      ],
      "execution_count": 0,
      "outputs": []
    },
    {
      "cell_type": "markdown",
      "metadata": {
        "id": "zM8PK0srXH64",
        "colab_type": "text"
      },
      "source": [
        "If everything went as planned, then in a couple minutes the Docker Container will be built. \n",
        "\n",
        "**Note:** Sometimes in Cloud9 there are old Docker Images on my machine. I don't know why. But this can eat up space. If your **docker build** fails, check if your machine's memory is being eaten up by other docker images. If so, remove them.\n",
        "\n",
        "I can check if my image was successfully built with the **docker images** command. \n",
        "\n",
        "Insert Image\n",
        "\n",
        "## Run Container\n",
        "So, I've built a container. Great! But now what? How do I access my Flask app? To do that I need to **run** the container. This will activte the **CMD** command in my Dockerfile, which will execute following command:"
      ]
    },
    {
      "cell_type": "code",
      "metadata": {
        "id": "W_9_Rfr7pee8",
        "colab_type": "code",
        "colab": {}
      },
      "source": [
        "$ python main.py"
      ],
      "execution_count": 0,
      "outputs": []
    },
    {
      "cell_type": "markdown",
      "metadata": {
        "id": "XPjJz56ZqWIA",
        "colab_type": "text"
      },
      "source": [
        "This **main.py** file is the main file in my Flask app. So running the Docker Container will result in my Flask app running. \n",
        "\n",
        "\n",
        "\n",
        "So, to actually run the Docker Container, all I need to do is enter the following:\n",
        "\n"
      ]
    },
    {
      "cell_type": "code",
      "metadata": {
        "id": "RHeFzqk4wSWN",
        "colab_type": "code",
        "colab": {}
      },
      "source": [
        "$ docker run"
      ],
      "execution_count": 0,
      "outputs": []
    },
    {
      "cell_type": "markdown",
      "metadata": {
        "id": "yO0GxJRLwSm5",
        "colab_type": "text"
      },
      "source": [
        "I'm sure you noticed the differnet flags and arguments in the **docker run** command. A few notes on that:\n",
        "\n",
        "* --rm: Remove docker image after run is stopped. This is useful to prevent a build up of stopped containers.\n",
        "* -d: Docker runs the container in the background. This gives me access to my current terminal.\n",
        "* -p: This argument maps the docker port to the local port, in this case 8080 to 8080. Remember, the exposed Docker port is 8080, per the Dockerfile.\n",
        "\n",
        "I also followed it up with the following command, which lists running Docker containers, to verify it is running."
      ]
    },
    {
      "cell_type": "code",
      "metadata": {
        "id": "QdQzWwj2wSuf",
        "colab_type": "code",
        "colab": {}
      },
      "source": [
        "$ docker ps"
      ],
      "execution_count": 0,
      "outputs": []
    },
    {
      "cell_type": "markdown",
      "metadata": {
        "id": "f9i3M-vOwS0-",
        "colab_type": "text"
      },
      "source": [
        "You can see in the **docker ps** call that the ports I assigned in the **docker run** call are being mapped as intended.\n",
        "\n",
        "## Verify Flask App is Running\n",
        "With the Docker container running,I need to verify that the Flask app is running. Cloud9 now offers a very useful tool for this. Just click **Preview** at the top of the screen, then select \"Preview From Running Application\".  \n",
        "\n",
        "Insert Image - Before\n",
        "\n",
        "This will then open a new screen, showing the Flask app is indeed running.\n",
        "\n",
        "Insert Image - After\n",
        "\n",
        "I belive you need to use local port 8080 for this to work. Google's equivalent service allows more flexibilty on what the localhost port has to be, but I think with Cloud9 it has to be 8080.\n",
        "\n",
        "With the Docker container built, running, and the application tested, I can shut down the running conainer. Just run **docker stop <container id>**. You can pull the container id from **docker ps**.\n",
        "\n"
      ]
    },
    {
      "cell_type": "code",
      "metadata": {
        "id": "6BvVF19qTm8G",
        "colab_type": "code",
        "colab": {}
      },
      "source": [
        "$ docker stop <container id>"
      ],
      "execution_count": 0,
      "outputs": []
    },
    {
      "cell_type": "markdown",
      "metadata": {
        "id": "sS0F3MulTnbj",
        "colab_type": "text"
      },
      "source": [
        "# Step 4 - Push Docker Container to DockerHub\n",
        "With a successfully built and run Docker container, I will now push the container to DockerHub. To do this, I need a DockerHub profile, and I need to know my profile name. In my case it is **canfielder**.\n",
        "\n",
        "I also need to create a repository where plant to store my Docker Container. In this case I have chosen **flask_app**. \n",
        "\n",
        "With DockerHub set up, I can go back to my Cloud9 environment.  I need to log into Docker in Cloud9 on the command line. DockerHub does not currently have the SSH key option that GitHub has. I just enter the following command followed by my username and password set up."
      ]
    },
    {
      "cell_type": "code",
      "metadata": {
        "id": "CvbCsctgUiXf",
        "colab_type": "code",
        "colab": {}
      },
      "source": [
        "$ docker login"
      ],
      "execution_count": 0,
      "outputs": []
    },
    {
      "cell_type": "markdown",
      "metadata": {
        "id": "IV67uqIAUirO",
        "colab_type": "text"
      },
      "source": [
        "Before I can make the push my Docker container to DockerHub, I need to rename/tag the container so that it has a naming convention DockerHub will understand. To push to DockerHub, the naming covention needs to be :"
      ]
    },
    {
      "cell_type": "code",
      "metadata": {
        "id": "qRT_bZzNUiyB",
        "colab_type": "code",
        "colab": {}
      },
      "source": [
        "$ <dockerhub profile name>/<docker container name>:<version>"
      ],
      "execution_count": 0,
      "outputs": []
    },
    {
      "cell_type": "markdown",
      "metadata": {
        "id": "NwjqxXisUi2i",
        "colab_type": "text"
      },
      "source": [
        "In my case, this means:"
      ]
    },
    {
      "cell_type": "code",
      "metadata": {
        "id": "dSjcEdLfUi75",
        "colab_type": "code",
        "colab": {}
      },
      "source": [
        "canfielder/flask_app:1.0"
      ],
      "execution_count": 0,
      "outputs": []
    },
    {
      "cell_type": "markdown",
      "metadata": {
        "id": "ShDz-tGUUjAI",
        "colab_type": "text"
      },
      "source": [
        "To rename my docker container, I will use the command **docker tag**. Below you can see mya available images after running **docker tag**. You can see the original container/image is there, was well as a copy with the new tag. Note that I used the tag *latest* instead of *1.0*. This is the default version if no version is supplied. Any version tag is fine, just be specific.\n",
        "\n",
        "INSERT IMAGE\n",
        "\n",
        "With the Docker container in the right format, the login sucessfully entered, and a repository at DockerHub set up, pushing to DockerHub is easy. I just enter:"
      ]
    },
    {
      "cell_type": "code",
      "metadata": {
        "id": "4DEQ18QeUjGD",
        "colab_type": "code",
        "colab": {}
      },
      "source": [
        "$ docker push canfielder/flask_app:latest"
      ],
      "execution_count": 0,
      "outputs": []
    },
    {
      "cell_type": "markdown",
      "metadata": {
        "id": "XzRPHL7JUjKR",
        "colab_type": "text"
      },
      "source": [
        "\n",
        "\n",
        "\n",
        "\n",
        "# Step 5\n",
        "To test that the push to DockerHub was successful, I'm going to go to a different cloud service and try to pull the Docker container, and then run it. I'll used Google Cloud Platform (GCP)for this test.\n",
        " \n",
        "Once at the GCP dashboard, I create a new project. Once the project up and running, I can go strainght to the Cloud Shell. \n",
        "\n",
        "Much like AWS Cloud9, GCP already has Docker enabled, so no extra setup. Just follow the same **docker login** instructions from before, and enter the needed login information.\n",
        "\n",
        "Once logged in, I just enter the following:\n"
      ]
    },
    {
      "cell_type": "code",
      "metadata": {
        "id": "Q85ZeQPVWfCk",
        "colab_type": "code",
        "colab": {}
      },
      "source": [
        "$ docker pull canfielder/flask_app:latest"
      ],
      "execution_count": 0,
      "outputs": []
    },
    {
      "cell_type": "markdown",
      "metadata": {
        "id": "KkkmLyHDWfHt",
        "colab_type": "text"
      },
      "source": [
        "\n",
        "\n",
        "DockerHub also provides a direct copy button for this information at the DockerHub repo.\n",
        "\n",
        "Once pulled, the same commands to run the Docker container used in Cloud9 apply here. After running the pulled Docker image we check to see it running.\n",
        "\n",
        "Insert Image - GCP Docker Run\n",
        "\n",
        "\n",
        "GCP also has a web preview button, so once the Flask App is running, I can quickly see it. With GCP, the web preview opens on a new window.\n",
        "\n",
        "Insert Image\n",
        "\n",
        "Success! \n",
        "\n",
        "# Conclusion\n",
        "Through this walkthrough I have:\n",
        "* Developed a simple Flask app with a scikit learn model embedded.\n",
        "* Created a Docker container in AWS for the Flask app.\n",
        "* Pushed the container to DockerHub.\n",
        "* Pulled the saem container to GCP, where it successfully ran."
      ]
    }
  ]
}