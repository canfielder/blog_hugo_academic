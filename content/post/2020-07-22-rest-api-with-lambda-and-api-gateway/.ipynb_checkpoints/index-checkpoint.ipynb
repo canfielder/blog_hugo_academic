{
 "cells": [
  {
   "cell_type": "markdown",
   "metadata": {},
   "source": [
    "https://aws.amazon.com/blogs/machine-learning/call-an-amazon-sagemaker-model-endpoint-using-amazon-api-gateway-and-aws-lambda/m"
   ]
  },
  {
   "cell_type": "markdown",
   "metadata": {},
   "source": [
    "As part of the final project for my **Intro to Cloud Computing** course, my team developed an image classification model using Amazon SageMaker. To access this image classification model, the team also developed a REST API front-end that would accept images as an input, and return the results of the model prediction. This REST API was created using two other Amazon services: API Gateway and Lambda. This post is going to walk through how to set up a REST API for a SageMaker endpoint, which accepts images as an input. \n",
    "\n",
    "# Why Use a REST API?\n",
    "One of the many benefits with SageMaker is that after training a prediction model, you can deploy the model to an HTTPS endpoint for inferences. This means that instead of only being able to run your model on a local machine, or having to pickle your model in order to move somehwere else, your model is always available from anywhere (so long as anywhere includes an internet connection!). This is incredibly useful for everyone who has permission to access the model endpoint. \n",
    "\n",
    "***But what if you want the public to use your model?***\n",
    "\n",
    "What if you have a public website which uses a model to generate results based on user input? It's not advisable to make this SageMaker endpoint 100% public. So instead, what we need to do is create a REST API. This REST API will accept input from the public, and then communicate with our endpoint. The REST API will then return the model results to the user. This way the public user is never actually interacting directly with the SageMaker endpoint, but still receives all the benefits of using the model.\n",
    "\n",
    "### Insert Diagram\n",
    "\n",
    "# How to Set Up a REST API for SageMaker\n",
    "For this post I am going to set up a REST API which accepts images as input and returns numerical preditions (in JSON form). This will consist of three components, all within the AWS system:\n",
    "\n",
    "1. SageMaker Endpoint\n",
    "2. API Gateway\n",
    "3. Lambda Function\n",
    "\n",
    "The interaction of these three components can be seen as follows:\n",
    "\n",
    "**INSERT FLOW DIAGRAM IMAGE**\n",
    "\n",
    "I'll walk through each component one-by-one, and then test out the complete system once finished.\n",
    "\n",
    "## Deploying a SageMaker Endpoint\n",
    "For this post I only need a sample image classification mode deployed as a SageMaker endpoint. The quality of the model is not important. Luckily, SageMaker has a bunch of example notebooks to show off different features available in SageMaker, including image classification. For this step I will use the following notebook as a starting point, [Image-classification-fulltraining-highlevel.ipynb](https://github.com/awslabs/amazon-sagemaker-examples/blob/master/introduction_to_amazon_algorithms/imageclassification_caltech/Image-classification-fulltraining-highlevel.ipynb).\n",
    "\n",
    "The simplest way to use this notebook is the start a SageMaker instance from the AWS Web Interface and open a Jupyter Notebook. At the top of the Notebook there will be a tab called **SageMaker Examples**. The notebook I am using is under the section **Introduction to Amazon Algorithms** and is called **Image-classification-fulltraining-highlevel.ipynb**. Click **Use** on the left side opposite the notebook's name. \n",
    "\n",
    "![](imgs/sagemaker_example_notebooks.png)\n",
    "\n",
    "You could also download the notebook from GitHub and run it locally, but you would have modify the notebook / system to make sure you had the right credentials to connect to AWS services\n",
    "\n",
    "Before I run the notebook I am going to make two small edits. \n",
    "\n",
    "First, I will relabel the S3 bucket to 'blog-rest-api-image-classification'. Note, I created this bucket before running the notebook. This notebook will not automatically create the bucket.\n",
    "![](imgs/rename_bucket.png)\n",
    "\n",
    "Second, I changed the number of epochs in the hyperparameters to 1. Fewer epochs means fewer training cycles. This will result in a model with poorer performance, but that is not a concern here. The end goal is generating a SageMaker endpoint. So, reducing the number of epochs reduces the training time, which reduces how much time I will be billed for.\n",
    "\n",
    "![](imgs/reset_epochs.png)\n",
    "\n",
    "With the edits made, I now  run **ALL BUT THE FINAL CELL** of the notebook (that cell deletes the endpoint). If the notebook ran successfully that means an active SageMaker endpoint is now available. No more action is necessary here until the complete REST API system is set up.\n",
    "\n",
    "## Creating an API Gateway\n",
    "Before I walk through how to create the API Gateway, I want to mention that the following blog was very helpful for me, [AWS Compute Blog: Binary Support for API Integrations with Amazon API Gateway](https://aws.amazon.com/blogs/compute/binary-support-for-api-integrations-with-amazon-api-gateway/). If you are having any questions outside of this walkthrough, I would start here.\n",
    "\n",
    "For creating the API Gateway I'll use the Amazon API Gateway service. API Gateway can be accessed from the AWS web console. The following is a step-by-step guide for settn gup the API, starting from the main page for Amazon API Gateway.\n",
    "\n",
    "### Create Resource and Method\n",
    "1. Click **Create API** in the top right corner, and then select **REST API** on the following page. Click **Build**. Select a name the API and select **Create API**. For this walkthrough the name will be **blog_rest_api_image_classification**.\n",
    "\n",
    "2. Go to **Resources** (far left bar, under API). Ensure that the **/** (front slash) is highlighted in the **Resources** Banner.\n",
    "\n",
    "![](imgs/api_resource_banner.png)\n",
    "\n",
    "3. Select **Actions > Create Resource**. Enter a Resource Name. For this walkthrough the name will be **image-classification**. Maintain all other values as the defaults. After entering a name, select **Create Resource**.\n",
    "\n",
    "4. Ensure that Resources is selected under **API: blog_rest_api_image_classification** (complete name may be cropped). In Resources left side banner ensure, **/image-classification** is highligthed. \n",
    "\n",
    "5. Select **Actions > Create Method**. Select **POST** from drop-down. **Click** the check mark.\n",
    "\n",
    "### Configure Method\n",
    "1. With **POST** highlighted, select:\n",
    "\n",
    "* **Integration Type:** Lambda Function\n",
    "* **Use Lambda Proxy Integration:** NOT checked\n",
    "* **Lambda Region:** Ensure region is consistent with Lambda we are connecting the API to.\n",
    "* **Lambda Function:** Enter lambda function name\n",
    "* **Use Default Timeout:** Remain checked.\n",
    "\n",
    "![](imgs/api_resource_setup.png)\n",
    "\n",
    "2. Click Save. Select OK to give API Gateway permission to invoke Lambda Function.\n",
    "\n",
    "3. If asked about Lambda permissions, select OK.\n",
    "\n",
    "4. Select Integration Request.\n",
    "\n",
    "![](imgs/api_integration_request.png)\n",
    "\n",
    "5. Click Mapping Templates so that drop-down content is visible.\n",
    "\n",
    "6. For Request body passthrough, select **When there are no templates defined (recommended)**.\n",
    "\n",
    "7. Under Content-Type, click **Add mapping template**.\n",
    "\n",
    "8. Enter **image/jpg**. Click check mark.\n",
    "\n",
    "9. Scroll Down. Enter the following in the empty template box.\n",
    "\n",
    "![](imgs/api_mapping_templates.png)\n",
    "\n",
    "9. Select Save.\n",
    "\n",
    "### Deploy API\n",
    "\n",
    "1. Return to **API/Resources** page. Ensure under Resources side banner the method POST is highlighted.\n",
    "\n",
    "2. Click Actions. Select Deploy API.\n",
    "\n",
    "3. For Deployment Stage, select **New Stage**.\n",
    "\n",
    "4. Add Stage Name. For this walkthrough the name will be **Blog**.\n",
    "\n",
    "5. Click Deploy.\n",
    "\n",
    "\n",
    "We now have a deployed API Gateway.\n",
    "\n",
    "## Designing a Lambda Function\n",
    "The Lambda function is going to be the workhorse of this system. It will be the intermediary, between the public facing API Gateway, and the permissions-required SageMaker endpoint. AWS Lambda is a serverless system, able to respond to events using user defined code, known as functions. In this case, the Lambda function accepts images as an input and then sends them to deployed SageMaker endpoint. The endpoint returns a prediction result to the Lambda function, at which point the Lambda function sends out that prediction as an output.\n",
    "\n",
    "The reason I use Lambda is that it is a serverless system and event driven. In this case it means the function is only active, and the user is only being charged, when receiving and processing images. Once the images stop coming in, the user is no longer being charged. A user could replicate this function by provisioning an EC2 instance, but the user would then be charged for the complete life of the EC2 instance. With Lambda, I am able to leverage one of the clouds greatest assets, only paying for what I use. \n",
    "\n",
    "### Create Lambda\n",
    "\n",
    "I am going to create the Lambda function directly through the AWS web interface. After going to the Lambda page and selecting **Create function** I need to enter/select three things:\n",
    "\n",
    "1. Select \"Author From Scratch\"\n",
    "2. Enter a function name\n",
    "3. Select Python 3.8 for the runtime.\n",
    "\n",
    "![](imgs/lambda_create_function.png)\n",
    "\n",
    "Once the above three items are entered/selected, click **Create Function**.\n",
    "\n",
    "### Define Function Script\n",
    "From here, I add the following script to the Lambda function. \n",
    "\n",
    "**Note:**  *The logging calls are not necessary, but are good habbit for debugging purposes.*"
   ]
  },
  {
   "cell_type": "code",
   "execution_count": null,
   "metadata": {},
   "outputs": [],
   "source": [
    "import logging\n",
    "import os\n",
    "import json\n",
    "import boto3\n",
    "import base64\n",
    "\n",
    "# Define Temporary Image Location\n",
    "image_location = \"/tmp/photo.jpg\"\n",
    "\n",
    "# Establish Region\n",
    "region = \"us-east-1\"\n",
    "\n",
    "# Define SageMaker Endpoint\n",
    "endpoint_name = os.environ['ENDPOINT_NAME']\n",
    "\n",
    "# Establish Boto3 Session\n",
    "boto_sess = boto3.session.Session(region_name=region)\n",
    "\n",
    "# Invoke SageMaker Runtime Client\n",
    "runtime = boto_sess.client(service_name='runtime.sagemaker')\n",
    "\n",
    "logger = logging.getLogger()\n",
    "logger.setLevel(logging.INFO)\n",
    "logger.error('Starting prediction')\n",
    "\n",
    "\n",
    "def write_to_file(save_path, data):\n",
    "    with open(save_path, \"wb\") as f:\n",
    "        f.write(base64.b64decode(data))\n",
    "\n",
    "\n",
    "def image_to_bytearray(save_path):\n",
    "    with open(save_path, 'rb') as f:\n",
    "        payload = f.read()\n",
    "        payload = bytearray(payload)  \n",
    "    return payload\n",
    "\n",
    "\n",
    "def invoke_endpoint(payload):\n",
    "    response = runtime.invoke_endpoint(EndpointName=endpoint_name, \n",
    "                                       ContentType='application/x-image', \n",
    "                                       Body=payload)\n",
    "    result = response['Body'].read()\n",
    "    result = json.loads(result)\n",
    "    return result\n",
    "\n",
    "\n",
    "def lambda_handler(event, context):\n",
    "    \n",
    "    # Writes Image to Local Temp File\n",
    "    write_to_file(image_location, event[\"base64Image\"])\n",
    "    \n",
    "    # Converts Image to Byte Array\n",
    "    image_bytearray = image_to_bytearray(image_location)\n",
    "    \n",
    "    # Generates Prediction with Byte Array. \n",
    "    # Returns List of Probabilites for All Classes\n",
    "    payload = invoke_endpoint(image_bytearray)\n",
    "\n",
    "    \n",
    "    return {\n",
    "        'payload' : payload\n",
    "    }"
   ]
  },
  {
   "cell_type": "markdown",
   "metadata": {},
   "source": [
    "Note how the SageMaker Endpoint is defined. Instead of hard-coding the endpoint name, I use an Environment Variable. This allows more flexibilty to use versions of this code in other applications later. But it also means I still need to define the endpoint name, Lambda will not detect the name automatically. \n",
    "\n",
    "You can define all environment variables on just below where you enter the function. Simply enter the following key (variable name) and value (endpoint name). If you followed the instructions for generating a SageMaker enpoint above, the endpoint should match the name below. If you made any changes to that process, you may need to verify the SageMaker endpoint name is correct.\n",
    "\n",
    "![](imgs/environment_variable_endpoint.png)\n",
    "\n",
    "### Assign API Trigger\n",
    "In order for the Lambda function to act, it needs a trigger. Once assigned, every time the Lambda function is trigger it will operate. In our case, every time the API Gateway receives an input image, the Lamba funciton will use the SageMaker endpoint to make an inference with the input image, and then return the model results to the user.\n",
    "\n",
    "To add a trigger, go to the Lambda function via the AWS web console. Click **Add Trigger**.\n",
    "\n",
    "![](imgs/lambda_pre_add_trigger.png)\n",
    "\n",
    "Select **API Gateway** as the trigger type. For the configuration information, enter the following:\n",
    "\n",
    "* **API**: Name of the API created (**blog_rest_api_image_classification**)\n",
    "* **Deployment Stage**: Name of the stage (**Blog**)\n",
    "* **Security**: Open\n",
    "\n",
    "![](imgs/lambda_add_trigger.png)\n",
    "\n",
    "# Testing the REST API\n",
    "At this point all three parts of the system should be up and running. Now all that's left to do is test to make sure everything works. To do this we'll need a test image.\n",
    "\n",
    "The example SageMaker notebook we used to generate our SageMaker endpoint actually has a code block which downloads a sample image from the Caltech-256 dataset. Unfortunately this code block failed when I tried to run it. So, I found the same dataset hosted on Kaggle, [here](https://www.kaggle.com/jessicali9530/caltech256). The sample image I'll use is Image 008_0007.jpg under Category 008 (bathtubs).\n",
    "\n",
    "With the image downloaded locally, we'll take to make sure we can call it correctly."
   ]
  },
  {
   "cell_type": "code",
   "execution_count": 4,
   "metadata": {},
   "outputs": [
    {
     "data": {
      "image/jpeg": "[encoded data removed]",
      "text/plain": [
       "<IPython.core.display.Image object>"
      ]
     },
     "execution_count": 4,
     "metadata": {},
     "output_type": "execute_result"
    }
   ],
   "source": [
    "from IPython.display import Image\n",
    "file_name = \"imgs/008_0007.jpg\"\n",
    "Image(file_name)  "
   ]
  },
  {
   "cell_type": "markdown",
   "metadata": {},
   "source": [
    "With the test image secured, we need to define the REST_API url, page, and the headers we are going to append to the test image when we POST the image to the REST API."
   ]
  },
  {
   "cell_type": "code",
   "execution_count": 24,
   "metadata": {},
   "outputs": [],
   "source": [
    "host_url = \"https://drzfasg2j3.execute-api.us-east-1.amazonaws.com/\"\n",
    "page = \"Blog/image-classification\"\n",
    "\n",
    "url = posixpath.join(host_url, page)\n",
    "\n",
    "headers = {\n",
    "    \"Content-Type\": \"image/jpg\"\n",
    "}"
   ]
  },
  {
   "cell_type": "markdown",
   "metadata": {},
   "source": [
    "The REST API URL can be found be going to API > Stages and selecting POST under **Blog**. The URL will be listed as Invoke URL in the main window.\n",
    "\n",
    "![](imgs/api_invoke_url.png)\n"
   ]
  },
  {
   "cell_type": "code",
   "execution_count": 16,
   "metadata": {},
   "outputs": [],
   "source": [
    "import posixpath\n",
    "# Image to POST\n",
    "data = open(file_name,'rb').read()\n",
    "\n",
    "# with open(file_name, 'rb') as f:\n",
    "#     payload = f.read()\n",
    "#     payload = bytearray(payload)"
   ]
  },
  {
   "cell_type": "code",
   "execution_count": 26,
   "metadata": {},
   "outputs": [
    {
     "data": {
      "text/plain": [
       "'{\"message\": \"Could not parse request body into json: Illegal unquoted character ((CTRL-CHAR, code 0)): has to be escaped using backslash to be included in string value\\\\n at [Source: (byte[])\\\\\"{\\\\n    \\\\\"operation\\\\\": \\\\\"prediction\\\\\",\\\\n    \\\\\"base64Image\\\\\": \\\\\"\\\\uFFFD\\\\uFFFD\\\\uFFFD\\\\uFFFD\\\\u0000\\\\u0010JFIF\\\\u0000\\\\u0001\\\\u0001\\\\u0001\\\\u0000H\\\\u0000H\\\\u0000\\\\u0000\\\\uFFFD\\\\uFFFD\\\\u0000C\\\\u0000\\\\b\\\\u0006\\\\u0006\\\\u0007\\\\u0006\\\\u0005\\\\b\\\\u0007\\\\u0007\\\\u0007\\\\t\\\\t\\\\b\\\\n\\\\f\\\\u0014\\\\r\\\\f\\\\u000B\\\\u000B\\\\f\\\\u0019\\\\u0012\\\\u0013\\\\u000F\\\\u0014\\\\u001D\\\\u001A\\\\u001F\\\\u001E\\\\u001D\\\\u001A\\\\u001C\\\\u001C $.\\\\\\' \\\\\",#\\\\u001C\\\\u001C(7),01444\\\\u001F\\\\\\'9=82<.342\\\\uFFFD\\\\uFFFD\\\\u0000C\\\\u0001\\\\t\\\\t\\\\t\\\\f\\\\u000B\\\\f\\\\u0018\\\\r\\\\r\\\\u00182!\\\\u001C!22222222222222222222222222222222222222222222222222\\\\uFFFD\\\\uFFFD\\\\u0000\\\\u0011\\\\b\\\\u0001\\\\uFFFD\\\\u0002\\\\uFFFD\\\\u0003\\\\u0001\\\\\"\\\\u0000\\\\u0002\\\\u0011\\\\u0001\\\\u0003\\\\u0011\\\\u0001\\\\uFFFD\\\\uFFFD\\\\u0000\\\\u001B\\\\u0000\\\\u0000\\\\u0002\\\\u0003\\\\u0001\\\\u0001\\\\u0001\\\\u0000\\\\u0000\\\\u0000\\\\u0000\\\\u0000\\\\u0000\\\\u0000\\\\u0000\\\\u0000\\\\u0000\\\\u0002\\\\u0003\\\\u0000\\\\u0001\\\\u0004\\\\u0005\\\\u0006\\\\u0007\\\\uFFFD\\\\uFFFD\\\\u0000J\\\\u0010\\\\u0000\\\\u0002\\\\u0001\\\\u0003\\\\u0002\\\\u0002\\\\u0007\\\\u0005\\\\u0004\\\\u0007\\\\u0006\\\\u0005\\\\u0003\\\\u0003\\\\u0005\\\\u0000\\\\u0000\\\\u0002\\\\u0012\\\\u0001\\\\u0003\\\\\"\\\\u00042BR\\\\u0005\\\\u0011\\\\u0013!1br\\\\u0014A\\\\uFFFD\\\\uFFFD\\\\uFFFD\\\\u0015Q\\\\uFFFD\\\\uFFFD\\\\u0006#STa\\\\uFFFD\\\\uFFFD$3Cq\\\\uFFFD\\\\uFFFD4D\\\\uFFFD\\\\uFFFD\\\\uFFFD\\\\u0007\\\\uFFFD\\\\uFFFDc\\\\uFFFD\\\\uFFFD%5d\\\\uFFFD\\\\uFFFD\\\\uFFFD\\\\uFFFD\\\\u0000\\\\u0019\\\\u0001\\\\u0001\\\\u0001\\\\u0001\\\\u0001\\\\u0001\\\\u0001\\\\u0000\\\\u0000\\\\u0000\\\\u0000\\\\u0000\\\\u0000\\\\u0000\\\\u0000\\\\u0000\\\\u0000\\\\u0000\\\\u0001\\\\u0002\\\\u0003\\\\u0004\\\\u0005\\\\uFFFD\\\\uFFFD\\\\u0000\\\\\"\\\\u0011\\\\u0001\\\\u0000\\\\u0003\\\\u0001\\\\u0000\\\\u0002\\\\u0002\\\\u0002\\\\u0003\\\\u0001\\\\u0000\\\\u0000\\\\u0000\\\\u0000\\\\u0000\\\\u0000\\\\u0000\\\\u0001\\\\u0002\\\\u0012\\\\u0011!1\\\\u0003\\\\\"2A\\\\u0013QqB\\\\uFFFD\\\\uFFFD\\\\u0000\\\\f\\\\u0003\\\\u0001\\\\u0000\\\\u0002\\\\u0011\\\\u0003\\\\u0011\\\\u0000?\\\\u0000\\\\uFFFD0\\\\uFFFD\\\\uFFFD\\\\\"[truncated 42432 bytes]; line: 3, column: 34]\"}'"
      ]
     },
     "execution_count": 26,
     "metadata": {},
     "output_type": "execute_result"
    }
   ],
   "source": [
    "import json, pprint, requests\n",
    "response = requests.post(url=url,\n",
    "                         data=data, \n",
    "                         headers=headers)\n",
    "\n",
    "response.text"
   ]
  },
  {
   "cell_type": "code",
   "execution_count": null,
   "metadata": {},
   "outputs": [],
   "source": [
    "#Response Output\n",
    "result = json.loads(response.text)\n",
    "pprint.pprint(result)"
   ]
  },
  {
   "cell_type": "code",
   "execution_count": 10,
   "metadata": {},
   "outputs": [
    {
     "name": "stdout",
     "output_type": "stream",
     "text": [
      "Error Raised. Check status of REST API and SageMaker Endpoint.\n"
     ]
    }
   ],
   "source": [
    "try:\n",
    "    response = requests.post(url=url,\n",
    "                             data=data, \n",
    "                             headers=headers)\n",
    "\n",
    "    #Response Output\n",
    "    result = json.loads(response.text)\n",
    "    pprint.pprint(result)\n",
    "    \n",
    "except:\n",
    "    print(\"Error Raised. Check status of REST API and SageMaker Endpoint.\")"
   ]
  }
 ],
 "metadata": {
  "kernelspec": {
   "display_name": "Python 3",
   "language": "python",
   "name": "python3"
  },
  "language_info": {
   "codemirror_mode": {
    "name": "ipython",
    "version": 3
   },
   "file_extension": ".py",
   "mimetype": "text/x-python",
   "name": "python",
   "nbconvert_exporter": "python",
   "pygments_lexer": "ipython3",
   "version": "3.7.7"
  }
 },
 "nbformat": 4,
 "nbformat_minor": 4
}
